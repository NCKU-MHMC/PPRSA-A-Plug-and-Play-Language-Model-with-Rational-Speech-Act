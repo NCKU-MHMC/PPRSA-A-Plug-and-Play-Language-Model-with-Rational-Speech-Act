{
 "cells": [
  {
   "cell_type": "code",
   "execution_count": 1,
   "metadata": {},
   "outputs": [],
   "source": [
    "import pandas as pd\n",
    "df = pd.read_csv('D:/Corpus/NLP/empathetic dialogue/original_data(csv)/valid.csv',\n",
    "                 encoding='ISO-8859-1')"
   ]
  },
  {
   "cell_type": "code",
   "execution_count": 2,
   "metadata": {},
   "outputs": [
    {
     "data": {
      "text/html": [
       "<div>\n",
       "<style scoped>\n",
       "    .dataframe tbody tr th:only-of-type {\n",
       "        vertical-align: middle;\n",
       "    }\n",
       "\n",
       "    .dataframe tbody tr th {\n",
       "        vertical-align: top;\n",
       "    }\n",
       "\n",
       "    .dataframe thead th {\n",
       "        text-align: right;\n",
       "    }\n",
       "</style>\n",
       "<table border=\"1\" class=\"dataframe\">\n",
       "  <thead>\n",
       "    <tr style=\"text-align: right;\">\n",
       "      <th></th>\n",
       "      <th>conv_id</th>\n",
       "      <th>utterance</th>\n",
       "    </tr>\n",
       "  </thead>\n",
       "  <tbody>\n",
       "    <tr>\n",
       "      <td>0</td>\n",
       "      <td>hit:3_conv:6</td>\n",
       "      <td>Today_comma_as i was leaving for work in the m...</td>\n",
       "    </tr>\n",
       "    <tr>\n",
       "      <td>1</td>\n",
       "      <td>hit:3_conv:6</td>\n",
       "      <td>Are you fine now?</td>\n",
       "    </tr>\n",
       "    <tr>\n",
       "      <td>2</td>\n",
       "      <td>hit:3_conv:6</td>\n",
       "      <td>Yeah_comma_i'm doing alright now_comma_ but wi...</td>\n",
       "    </tr>\n",
       "    <tr>\n",
       "      <td>3</td>\n",
       "      <td>hit:3_conv:6</td>\n",
       "      <td>Cool :) Is your car damaged a lot?</td>\n",
       "    </tr>\n",
       "    <tr>\n",
       "      <td>4</td>\n",
       "      <td>hit:3_conv:6</td>\n",
       "      <td>The car was badly damaged_comma_i veered outsi...</td>\n",
       "    </tr>\n",
       "    <tr>\n",
       "      <td>5</td>\n",
       "      <td>hit:4_conv:9</td>\n",
       "      <td>A few weeks ago_comma_ I was walking through m...</td>\n",
       "    </tr>\n",
       "  </tbody>\n",
       "</table>\n",
       "</div>"
      ],
      "text/plain": [
       "        conv_id                                          utterance\n",
       "0  hit:3_conv:6  Today_comma_as i was leaving for work in the m...\n",
       "1  hit:3_conv:6                                  Are you fine now?\n",
       "2  hit:3_conv:6  Yeah_comma_i'm doing alright now_comma_ but wi...\n",
       "3  hit:3_conv:6                 Cool :) Is your car damaged a lot?\n",
       "4  hit:3_conv:6  The car was badly damaged_comma_i veered outsi...\n",
       "5  hit:4_conv:9  A few weeks ago_comma_ I was walking through m..."
      ]
     },
     "execution_count": 2,
     "metadata": {},
     "output_type": "execute_result"
    }
   ],
   "source": [
    "df = df.drop(['prompt','´£¥Ü','µoÁn','intent','speaker_idx','emotion','selfeval','tags', 'utterance_idx','context'],axis=1)\n",
    "df.head(6)"
   ]
  },
  {
   "cell_type": "code",
   "execution_count": 3,
   "metadata": {},
   "outputs": [
    {
     "data": {
      "text/plain": [
       "12078"
      ]
     },
     "execution_count": 3,
     "metadata": {},
     "output_type": "execute_result"
    }
   ],
   "source": [
    "len(df)"
   ]
  },
  {
   "cell_type": "code",
   "execution_count": 4,
   "metadata": {},
   "outputs": [
    {
     "data": {
      "text/html": [
       "<div>\n",
       "<style scoped>\n",
       "    .dataframe tbody tr th:only-of-type {\n",
       "        vertical-align: middle;\n",
       "    }\n",
       "\n",
       "    .dataframe tbody tr th {\n",
       "        vertical-align: top;\n",
       "    }\n",
       "\n",
       "    .dataframe thead th {\n",
       "        text-align: right;\n",
       "    }\n",
       "</style>\n",
       "<table border=\"1\" class=\"dataframe\">\n",
       "  <thead>\n",
       "    <tr style=\"text-align: right;\">\n",
       "      <th></th>\n",
       "      <th>conv_id</th>\n",
       "      <th>utterance</th>\n",
       "    </tr>\n",
       "  </thead>\n",
       "  <tbody>\n",
       "    <tr>\n",
       "      <td>0</td>\n",
       "      <td>hit:3_conv:6</td>\n",
       "      <td>Today_comma_as i was leaving for work in the m...</td>\n",
       "    </tr>\n",
       "    <tr>\n",
       "      <td>1</td>\n",
       "      <td>hit:3_conv:6</td>\n",
       "      <td>Are you fine now?</td>\n",
       "    </tr>\n",
       "    <tr>\n",
       "      <td>2</td>\n",
       "      <td>hit:3_conv:6</td>\n",
       "      <td>Yeah_comma_i'm doing alright now_comma_ but wi...</td>\n",
       "    </tr>\n",
       "    <tr>\n",
       "      <td>3</td>\n",
       "      <td>hit:3_conv:6</td>\n",
       "      <td>Cool :) Is your car damaged a lot?</td>\n",
       "    </tr>\n",
       "    <tr>\n",
       "      <td>4</td>\n",
       "      <td>hit:3_conv:6</td>\n",
       "      <td>The car was badly damaged_comma_i veered outsi...</td>\n",
       "    </tr>\n",
       "    <tr>\n",
       "      <td>...</td>\n",
       "      <td>...</td>\n",
       "      <td>...</td>\n",
       "    </tr>\n",
       "    <tr>\n",
       "      <td>12073</td>\n",
       "      <td>hit:12361_conv:24722</td>\n",
       "      <td>tha is really cool what was your grade</td>\n",
       "    </tr>\n",
       "    <tr>\n",
       "      <td>12074</td>\n",
       "      <td>hit:12392_conv:24785</td>\n",
       "      <td>One of my coworkers has been arguing with his ...</td>\n",
       "    </tr>\n",
       "    <tr>\n",
       "      <td>12075</td>\n",
       "      <td>hit:12392_conv:24785</td>\n",
       "      <td>What are they arguing about?</td>\n",
       "    </tr>\n",
       "    <tr>\n",
       "      <td>12076</td>\n",
       "      <td>hit:12392_conv:24785</td>\n",
       "      <td>Everything and anything. It's annoying_comma_ ...</td>\n",
       "    </tr>\n",
       "    <tr>\n",
       "      <td>12077</td>\n",
       "      <td>hit:12392_conv:24785</td>\n",
       "      <td>That's so ridiculous!</td>\n",
       "    </tr>\n",
       "  </tbody>\n",
       "</table>\n",
       "<p>12078 rows × 2 columns</p>\n",
       "</div>"
      ],
      "text/plain": [
       "                    conv_id                                          utterance\n",
       "0              hit:3_conv:6  Today_comma_as i was leaving for work in the m...\n",
       "1              hit:3_conv:6                                  Are you fine now?\n",
       "2              hit:3_conv:6  Yeah_comma_i'm doing alright now_comma_ but wi...\n",
       "3              hit:3_conv:6                 Cool :) Is your car damaged a lot?\n",
       "4              hit:3_conv:6  The car was badly damaged_comma_i veered outsi...\n",
       "...                     ...                                                ...\n",
       "12073  hit:12361_conv:24722             tha is really cool what was your grade\n",
       "12074  hit:12392_conv:24785  One of my coworkers has been arguing with his ...\n",
       "12075  hit:12392_conv:24785                       What are they arguing about?\n",
       "12076  hit:12392_conv:24785  Everything and anything. It's annoying_comma_ ...\n",
       "12077  hit:12392_conv:24785                              That's so ridiculous!\n",
       "\n",
       "[12078 rows x 2 columns]"
      ]
     },
     "execution_count": 4,
     "metadata": {},
     "output_type": "execute_result"
    }
   ],
   "source": [
    "df.astype(str)"
   ]
  },
  {
   "cell_type": "code",
   "execution_count": 5,
   "metadata": {},
   "outputs": [],
   "source": [
    "conv_id = df['conv_id'].iloc[0].split(':')[2]\n",
    "df_a = []\n",
    "df_b = []\n",
    "last_context = None\n",
    "\n",
    "turn=0\n",
    "for n in range(len(df)):\n",
    "    conv_id_n = df['conv_id'].iloc[n].split(':')[2]\n",
    "    utterance_n =str(df['utterance'].iloc[n]).replace('_comma_',',').strip(' ')\n",
    "    \n",
    "    if conv_id == conv_id_n:\n",
    "        turn +=1\n",
    "        \n",
    "        if turn % 2 == 0:\n",
    "            b = utterance_n\n",
    "            df_a.append(a + '<|endoftext|>')\n",
    "            df_b.append(b + '<|endoftext|>')\n",
    "        elif last_context is None:\n",
    "            a = utterance_n\n",
    "            last_context = utterance_n\n",
    "        else:\n",
    "            a = last_context + ' ' + utterance_n\n",
    "            last_context = utterance_n\n",
    "        \n",
    "    else :\n",
    "        turn = 1\n",
    "        conv_id = conv_id_n\n",
    "        a = utterance_n\n",
    "        last_context = utterance_n"
   ]
  },
  {
   "cell_type": "code",
   "execution_count": 6,
   "metadata": {},
   "outputs": [
    {
     "data": {
      "text/plain": [
       "5738"
      ]
     },
     "execution_count": 6,
     "metadata": {},
     "output_type": "execute_result"
    }
   ],
   "source": [
    "len(df_a)"
   ]
  },
  {
   "cell_type": "code",
   "execution_count": 7,
   "metadata": {},
   "outputs": [
    {
     "data": {
      "text/plain": [
       "\"Today,as i was leaving for work in the morning,i had a tire burst in the middle of a busy road. That scared the hell out of me! Yeah,i'm doing alright now, but with minor injuries.<|endoftext|>\""
      ]
     },
     "execution_count": 7,
     "metadata": {},
     "output_type": "execute_result"
    }
   ],
   "source": [
    "df_a[1]"
   ]
  },
  {
   "cell_type": "code",
   "execution_count": 8,
   "metadata": {},
   "outputs": [],
   "source": [
    "with open('D:/論文閱讀/碩11008_郭旻學/Program/output/Transformer.txt','r',encoding=\"utf-8\") as f:\n",
    "    bad_sentence = f.read().splitlines()"
   ]
  },
  {
   "cell_type": "code",
   "execution_count": 9,
   "metadata": {},
   "outputs": [
    {
     "data": {
      "text/plain": [
       "'i would be so mad ! '"
      ]
     },
     "execution_count": 9,
     "metadata": {},
     "output_type": "execute_result"
    }
   ],
   "source": [
    "bad_sentence[0].replace('[SEP]','')"
   ]
  },
  {
   "cell_type": "code",
   "execution_count": 10,
   "metadata": {},
   "outputs": [
    {
     "data": {
      "text/plain": [
       "5738"
      ]
     },
     "execution_count": 10,
     "metadata": {},
     "output_type": "execute_result"
    }
   ],
   "source": [
    "len(df_b)"
   ]
  },
  {
   "cell_type": "code",
   "execution_count": 11,
   "metadata": {},
   "outputs": [],
   "source": [
    "import random\n",
    "sentence_a = []\n",
    "sentence_b = []\n",
    "label = []\n",
    "\n",
    "for i in range(len(df_a)):\n",
    "    # this is IsNextSentence\n",
    "    sentence_a.append(df_a[i])\n",
    "    sentence_b.append(df_b[i])\n",
    "    label.append(0)\n",
    "\n",
    "    # 50/50 whether is IsNextSentence or badSentence\n",
    "    if random.random() >= 0.5:\n",
    "        random_index = random.randint(0, len(df_b)-1)\n",
    "        # this is NotNextSentence\n",
    "        sentence_a.append(df_a[i])\n",
    "        sentence_b.append(df_b[random_index])\n",
    "        label.append(1)\n",
    "    else:\n",
    "        random_index = random.randint(0, len(bad_sentence)-1)\n",
    "        # this is badSentence\n",
    "        sentence_a.append(df_a[i])\n",
    "        sentence_b.append(bad_sentence[random_index].replace('[SEP]','')+ '<|endoftext|>')\n",
    "        label.append(1)"
   ]
  },
  {
   "cell_type": "code",
   "execution_count": 12,
   "metadata": {},
   "outputs": [],
   "source": [
    "df_NSP = pd.DataFrame(list(zip(label, sentence_a, sentence_b)), columns =['label', 'sentence_a', 'sentence_b'])"
   ]
  },
  {
   "cell_type": "code",
   "execution_count": 13,
   "metadata": {},
   "outputs": [
    {
     "data": {
      "text/html": [
       "<div>\n",
       "<style scoped>\n",
       "    .dataframe tbody tr th:only-of-type {\n",
       "        vertical-align: middle;\n",
       "    }\n",
       "\n",
       "    .dataframe tbody tr th {\n",
       "        vertical-align: top;\n",
       "    }\n",
       "\n",
       "    .dataframe thead th {\n",
       "        text-align: right;\n",
       "    }\n",
       "</style>\n",
       "<table border=\"1\" class=\"dataframe\">\n",
       "  <thead>\n",
       "    <tr style=\"text-align: right;\">\n",
       "      <th></th>\n",
       "      <th>label</th>\n",
       "      <th>sentence_a</th>\n",
       "      <th>sentence_b</th>\n",
       "    </tr>\n",
       "  </thead>\n",
       "  <tbody>\n",
       "    <tr>\n",
       "      <td>0</td>\n",
       "      <td>0</td>\n",
       "      <td>Today,as i was leaving for work in the morning...</td>\n",
       "      <td>Are you fine now?&lt;|endoftext|&gt;</td>\n",
       "    </tr>\n",
       "    <tr>\n",
       "      <td>1</td>\n",
       "      <td>1</td>\n",
       "      <td>Today,as i was leaving for work in the morning...</td>\n",
       "      <td>i know , i have no idea what i ' m a good idea...</td>\n",
       "    </tr>\n",
       "    <tr>\n",
       "      <td>2</td>\n",
       "      <td>0</td>\n",
       "      <td>Today,as i was leaving for work in the morning...</td>\n",
       "      <td>Cool :) Is your car damaged a lot?&lt;|endoftext|&gt;</td>\n",
       "    </tr>\n",
       "    <tr>\n",
       "      <td>3</td>\n",
       "      <td>1</td>\n",
       "      <td>Today,as i was leaving for work in the morning...</td>\n",
       "      <td>i am glad you had a good time ! &lt;|endoftext|&gt;</td>\n",
       "    </tr>\n",
       "    <tr>\n",
       "      <td>4</td>\n",
       "      <td>0</td>\n",
       "      <td>A few weeks ago, I was walking through my hall...</td>\n",
       "      <td>That's funny, hope he didn't give you a heart ...</td>\n",
       "    </tr>\n",
       "    <tr>\n",
       "      <td>...</td>\n",
       "      <td>...</td>\n",
       "      <td>...</td>\n",
       "      <td>...</td>\n",
       "    </tr>\n",
       "    <tr>\n",
       "      <td>11471</td>\n",
       "      <td>1</td>\n",
       "      <td>One time I studied all night for my final exam...</td>\n",
       "      <td>What was her reaction to that&lt;|endoftext|&gt;</td>\n",
       "    </tr>\n",
       "    <tr>\n",
       "      <td>11472</td>\n",
       "      <td>0</td>\n",
       "      <td>One of my coworkers has been arguing with his ...</td>\n",
       "      <td>What are they arguing about?&lt;|endoftext|&gt;</td>\n",
       "    </tr>\n",
       "    <tr>\n",
       "      <td>11473</td>\n",
       "      <td>1</td>\n",
       "      <td>One of my coworkers has been arguing with his ...</td>\n",
       "      <td>I understand but memories are always nice.&lt;|en...</td>\n",
       "    </tr>\n",
       "    <tr>\n",
       "      <td>11474</td>\n",
       "      <td>0</td>\n",
       "      <td>One of my coworkers has been arguing with his ...</td>\n",
       "      <td>That's so ridiculous!&lt;|endoftext|&gt;</td>\n",
       "    </tr>\n",
       "    <tr>\n",
       "      <td>11475</td>\n",
       "      <td>1</td>\n",
       "      <td>One of my coworkers has been arguing with his ...</td>\n",
       "      <td>that ' s great ! i hope you get the job . &lt;|en...</td>\n",
       "    </tr>\n",
       "  </tbody>\n",
       "</table>\n",
       "<p>11476 rows × 3 columns</p>\n",
       "</div>"
      ],
      "text/plain": [
       "       label                                         sentence_a  \\\n",
       "0          0  Today,as i was leaving for work in the morning...   \n",
       "1          1  Today,as i was leaving for work in the morning...   \n",
       "2          0  Today,as i was leaving for work in the morning...   \n",
       "3          1  Today,as i was leaving for work in the morning...   \n",
       "4          0  A few weeks ago, I was walking through my hall...   \n",
       "...      ...                                                ...   \n",
       "11471      1  One time I studied all night for my final exam...   \n",
       "11472      0  One of my coworkers has been arguing with his ...   \n",
       "11473      1  One of my coworkers has been arguing with his ...   \n",
       "11474      0  One of my coworkers has been arguing with his ...   \n",
       "11475      1  One of my coworkers has been arguing with his ...   \n",
       "\n",
       "                                              sentence_b  \n",
       "0                         Are you fine now?<|endoftext|>  \n",
       "1      i know , i have no idea what i ' m a good idea...  \n",
       "2        Cool :) Is your car damaged a lot?<|endoftext|>  \n",
       "3          i am glad you had a good time ! <|endoftext|>  \n",
       "4      That's funny, hope he didn't give you a heart ...  \n",
       "...                                                  ...  \n",
       "11471         What was her reaction to that<|endoftext|>  \n",
       "11472          What are they arguing about?<|endoftext|>  \n",
       "11473  I understand but memories are always nice.<|en...  \n",
       "11474                 That's so ridiculous!<|endoftext|>  \n",
       "11475  that ' s great ! i hope you get the job . <|en...  \n",
       "\n",
       "[11476 rows x 3 columns]"
      ]
     },
     "execution_count": 13,
     "metadata": {},
     "output_type": "execute_result"
    }
   ],
   "source": [
    "df_NSP"
   ]
  },
  {
   "cell_type": "code",
   "execution_count": 14,
   "metadata": {},
   "outputs": [
    {
     "data": {
      "text/plain": [
       "'I went to this thing called a Paint Night and I ended up making an okay looking painting<|endoftext|>'"
      ]
     },
     "execution_count": 14,
     "metadata": {},
     "output_type": "execute_result"
    }
   ],
   "source": [
    "df_NSP.iloc[100][1]"
   ]
  },
  {
   "cell_type": "code",
   "execution_count": 15,
   "metadata": {},
   "outputs": [
    {
     "data": {
      "text/plain": [
       "'That sounds fun, I was never any good at painting<|endoftext|>'"
      ]
     },
     "execution_count": 15,
     "metadata": {},
     "output_type": "execute_result"
    }
   ],
   "source": [
    "df_NSP.iloc[100][2]"
   ]
  },
  {
   "cell_type": "code",
   "execution_count": 16,
   "metadata": {},
   "outputs": [],
   "source": [
    "df_NSP.to_csv(r'D:/論文閱讀/碩11008_郭旻學/Program/EngagementClassifier_head/data/valid_user_system_conv.csv', index=False, header=False)"
   ]
  },
  {
   "cell_type": "code",
   "execution_count": null,
   "metadata": {},
   "outputs": [],
   "source": []
  }
 ],
 "metadata": {
  "kernelspec": {
   "display_name": "Python 3 (ipykernel)",
   "language": "python",
   "name": "python3"
  },
  "language_info": {
   "codemirror_mode": {
    "name": "ipython",
    "version": 3
   },
   "file_extension": ".py",
   "mimetype": "text/x-python",
   "name": "python",
   "nbconvert_exporter": "python",
   "pygments_lexer": "ipython3",
   "version": "3.7.4"
  }
 },
 "nbformat": 4,
 "nbformat_minor": 4
}
