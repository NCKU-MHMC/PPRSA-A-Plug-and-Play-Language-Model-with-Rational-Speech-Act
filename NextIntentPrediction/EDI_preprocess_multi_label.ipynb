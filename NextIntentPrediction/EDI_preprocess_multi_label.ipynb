{
 "cells": [
  {
   "cell_type": "code",
   "execution_count": 1,
   "metadata": {},
   "outputs": [],
   "source": [
    "import pandas as pd\n",
    "df = pd.read_csv('D:/論文閱讀/碩11008_郭旻學/Program/IntentPrediction/data/train.csv',\n",
    "                 encoding='ISO-8859-1')"
   ]
  },
  {
   "cell_type": "code",
   "execution_count": 2,
   "metadata": {
    "scrolled": true
   },
   "outputs": [
    {
     "data": {
      "text/html": [
       "<div>\n",
       "<style scoped>\n",
       "    .dataframe tbody tr th:only-of-type {\n",
       "        vertical-align: middle;\n",
       "    }\n",
       "\n",
       "    .dataframe tbody tr th {\n",
       "        vertical-align: top;\n",
       "    }\n",
       "\n",
       "    .dataframe thead th {\n",
       "        text-align: right;\n",
       "    }\n",
       "</style>\n",
       "<table border=\"1\" class=\"dataframe\">\n",
       "  <thead>\n",
       "    <tr style=\"text-align: right;\">\n",
       "      <th></th>\n",
       "      <th>conv_id</th>\n",
       "      <th>Actor</th>\n",
       "      <th>Text</th>\n",
       "      <th>Label</th>\n",
       "    </tr>\n",
       "  </thead>\n",
       "  <tbody>\n",
       "    <tr>\n",
       "      <td>0</td>\n",
       "      <td>hit:0_conv:1</td>\n",
       "      <td>1</td>\n",
       "      <td>I remember going to see the fireworks with my ...</td>\n",
       "      <td>sentimental</td>\n",
       "    </tr>\n",
       "    <tr>\n",
       "      <td>1</td>\n",
       "      <td>hit:0_conv:1</td>\n",
       "      <td>0</td>\n",
       "      <td>Was this a friend you were in love with_comma_...</td>\n",
       "      <td>questioning</td>\n",
       "    </tr>\n",
       "    <tr>\n",
       "      <td>2</td>\n",
       "      <td>hit:0_conv:1</td>\n",
       "      <td>1</td>\n",
       "      <td>This was a best friend. I miss her.</td>\n",
       "      <td>sad</td>\n",
       "    </tr>\n",
       "    <tr>\n",
       "      <td>3</td>\n",
       "      <td>hit:0_conv:1</td>\n",
       "      <td>0</td>\n",
       "      <td>Where has she gone?</td>\n",
       "      <td>questioning</td>\n",
       "    </tr>\n",
       "    <tr>\n",
       "      <td>4</td>\n",
       "      <td>hit:0_conv:1</td>\n",
       "      <td>1</td>\n",
       "      <td>We no longer talk.</td>\n",
       "      <td>lonely</td>\n",
       "    </tr>\n",
       "  </tbody>\n",
       "</table>\n",
       "</div>"
      ],
      "text/plain": [
       "        conv_id Actor                                               Text  \\\n",
       "0  hit:0_conv:1     1  I remember going to see the fireworks with my ...   \n",
       "1  hit:0_conv:1     0  Was this a friend you were in love with_comma_...   \n",
       "2  hit:0_conv:1     1                This was a best friend. I miss her.   \n",
       "3  hit:0_conv:1     0                                Where has she gone?   \n",
       "4  hit:0_conv:1     1                                 We no longer talk.   \n",
       "\n",
       "         Label  \n",
       "0  sentimental  \n",
       "1  questioning  \n",
       "2          sad  \n",
       "3  questioning  \n",
       "4       lonely  "
      ]
     },
     "execution_count": 2,
     "metadata": {},
     "output_type": "execute_result"
    }
   ],
   "source": [
    "df.head()"
   ]
  },
  {
   "cell_type": "code",
   "execution_count": 3,
   "metadata": {},
   "outputs": [
    {
     "name": "stdout",
     "output_type": "stream",
     "text": [
      "40254\n"
     ]
    }
   ],
   "source": [
    "with open('D:/論文閱讀/碩11008_郭旻學/Program/IntentClassifier_head/labelling_EDI_ml/train_system_utter.txt') as f:\n",
    "    Label = [line.rstrip() for line in f]\n",
    "\n",
    "nextIntent_it = iter(Label)\n",
    "print(len(Label))"
   ]
  },
  {
   "cell_type": "code",
   "execution_count": 4,
   "metadata": {},
   "outputs": [],
   "source": [
    "from random import choice\n",
    "\n",
    "texts =[]\n",
    "labels = []\n",
    "\n",
    "conv_id = df['conv_id'].iloc[0].split(':')[2]\n",
    "\n",
    "turn=0\n",
    "context = None\n",
    "\n",
    "for n in range(len(df)):\n",
    "    conv_id_n = df['conv_id'].iloc[n].split(':')[2]\n",
    "    utterance_n =str(df['Text'].iloc[n]).replace('_comma_',',').strip(' ')\n",
    "    \n",
    "    if conv_id == conv_id_n:\n",
    "        turn += 1\n",
    "        if turn % 2 == 1:\n",
    "            if context == None:\n",
    "                context = utterance_n\n",
    "            else:\n",
    "                context = context + ' ' + utterance_n\n",
    "\n",
    "        else:   \n",
    "            label = next(nextIntent_it).split(',')\n",
    "            \n",
    "            texts.append(context)\n",
    "            labels.append(','.join(label))\n",
    "\n",
    "    else:\n",
    "        turn = 1\n",
    "        conv_id = conv_id_n\n",
    "        context = utterance_n "
   ]
  },
  {
   "cell_type": "code",
   "execution_count": 5,
   "metadata": {},
   "outputs": [
    {
     "data": {
      "text/plain": [
       "'I remember going to see the fireworks with my best friend. It was the first time we ever spent time alone together. Although there was a lot of people, we felt like the only people in the world.'"
      ]
     },
     "execution_count": 5,
     "metadata": {},
     "output_type": "execute_result"
    }
   ],
   "source": [
    "texts[0]"
   ]
  },
  {
   "cell_type": "code",
   "execution_count": 6,
   "metadata": {},
   "outputs": [
    {
     "data": {
      "text/html": [
       "<div>\n",
       "<style scoped>\n",
       "    .dataframe tbody tr th:only-of-type {\n",
       "        vertical-align: middle;\n",
       "    }\n",
       "\n",
       "    .dataframe tbody tr th {\n",
       "        vertical-align: top;\n",
       "    }\n",
       "\n",
       "    .dataframe thead th {\n",
       "        text-align: right;\n",
       "    }\n",
       "</style>\n",
       "<table border=\"1\" class=\"dataframe\">\n",
       "  <thead>\n",
       "    <tr style=\"text-align: right;\">\n",
       "      <th></th>\n",
       "      <th>labels</th>\n",
       "      <th>texts</th>\n",
       "    </tr>\n",
       "  </thead>\n",
       "  <tbody>\n",
       "    <tr>\n",
       "      <td>0</td>\n",
       "      <td>questioning</td>\n",
       "      <td>I remember going to see the fireworks with my ...</td>\n",
       "    </tr>\n",
       "    <tr>\n",
       "      <td>1</td>\n",
       "      <td>questioning</td>\n",
       "      <td>I remember going to see the fireworks with my ...</td>\n",
       "    </tr>\n",
       "    <tr>\n",
       "      <td>2</td>\n",
       "      <td>questioning</td>\n",
       "      <td>I remember going to see the fireworks with my ...</td>\n",
       "    </tr>\n",
       "    <tr>\n",
       "      <td>3</td>\n",
       "      <td>questioning,acknowledging</td>\n",
       "      <td>it feels like hitting to blank wall when i see...</td>\n",
       "    </tr>\n",
       "    <tr>\n",
       "      <td>4</td>\n",
       "      <td>acknowledging</td>\n",
       "      <td>it feels like hitting to blank wall when i see...</td>\n",
       "    </tr>\n",
       "  </tbody>\n",
       "</table>\n",
       "</div>"
      ],
      "text/plain": [
       "                      labels  \\\n",
       "0                questioning   \n",
       "1                questioning   \n",
       "2                questioning   \n",
       "3  questioning,acknowledging   \n",
       "4              acknowledging   \n",
       "\n",
       "                                               texts  \n",
       "0  I remember going to see the fireworks with my ...  \n",
       "1  I remember going to see the fireworks with my ...  \n",
       "2  I remember going to see the fireworks with my ...  \n",
       "3  it feels like hitting to blank wall when i see...  \n",
       "4  it feels like hitting to blank wall when i see...  "
      ]
     },
     "execution_count": 6,
     "metadata": {},
     "output_type": "execute_result"
    }
   ],
   "source": [
    "df_predict = pd.DataFrame(list(zip(labels, texts)), columns =['labels', 'texts'])\n",
    "df_predict.head()"
   ]
  },
  {
   "cell_type": "code",
   "execution_count": 7,
   "metadata": {},
   "outputs": [
    {
     "data": {
      "text/plain": [
       "40254"
      ]
     },
     "execution_count": 7,
     "metadata": {},
     "output_type": "execute_result"
    }
   ],
   "source": [
    "len(df_predict)"
   ]
  },
  {
   "cell_type": "code",
   "execution_count": 8,
   "metadata": {},
   "outputs": [
    {
     "name": "stdout",
     "output_type": "stream",
     "text": [
      "I remember going to see the fireworks with my best friend. It was the first time we ever spent time alone together. Although there was a lot of people, we felt like the only people in the world.\n",
      "questioning\n",
      "-------\n",
      "I remember going to see the fireworks with my best friend. It was the first time we ever spent time alone together. Although there was a lot of people, we felt like the only people in the world. This was a best friend. I miss her.\n",
      "questioning\n",
      "-------\n",
      "I remember going to see the fireworks with my best friend. It was the first time we ever spent time alone together. Although there was a lot of people, we felt like the only people in the world. This was a best friend. I miss her. We no longer talk.\n",
      "questioning\n",
      "-------\n",
      "it feels like hitting to blank wall when i see the darkness\n",
      "questioning,acknowledging\n",
      "-------\n",
      "it feels like hitting to blank wall when i see the darkness dont you feel so.. its a wonder\n",
      "acknowledging\n",
      "-------\n"
     ]
    }
   ],
   "source": [
    "for i in range(5):\n",
    "    print(df_predict.iloc[i][1])\n",
    "    print(df_predict.iloc[i][0])\n",
    "    print('-------')"
   ]
  },
  {
   "cell_type": "code",
   "execution_count": 9,
   "metadata": {},
   "outputs": [
    {
     "data": {
      "text/plain": [
       "questioning                                                  7444\n",
       "acknowledging                                                4737\n",
       "agreeing                                                     3444\n",
       "agreeing,questioning                                         2955\n",
       "suggesting                                                   2940\n",
       "                                                             ... \n",
       "sympathizing,suggesting,agreeing,consoling                      1\n",
       "agreeing,acknowledging,consoling,sympathizing,questioning       1\n",
       "agreeing,questioning,suggesting,consoling                       1\n",
       "agreeing,sympathizing,suggesting,consoling                      1\n",
       "acknowledging,encouraging,consoling                             1\n",
       "Name: labels, Length: 209, dtype: int64"
      ]
     },
     "execution_count": 9,
     "metadata": {},
     "output_type": "execute_result"
    }
   ],
   "source": [
    "df_predict['labels'].value_counts()"
   ]
  },
  {
   "cell_type": "code",
   "execution_count": 10,
   "metadata": {},
   "outputs": [
    {
     "name": "stderr",
     "output_type": "stream",
     "text": [
      "C:\\ProgramData\\Anaconda3\\lib\\site-packages\\ipykernel_launcher.py:3: FutureWarning: The signature of `Series.to_csv` was aligned to that of `DataFrame.to_csv`, and argument 'header' will change its default value from False to True: please pass an explicit value to suppress this warning.\n",
      "  This is separate from the ipykernel package so we can avoid doing imports until\n",
      "C:\\ProgramData\\Anaconda3\\lib\\site-packages\\ipykernel_launcher.py:4: FutureWarning: The signature of `Series.to_csv` was aligned to that of `DataFrame.to_csv`, and argument 'header' will change its default value from False to True: please pass an explicit value to suppress this warning.\n",
      "  after removing the cwd from sys.path.\n"
     ]
    }
   ],
   "source": [
    "writePath_1 = 'D:/論文閱讀/碩11008_郭旻學/Program/IntentPrediction/data/EDI/train_user_sentence_conv_ml.txt'\n",
    "writePath_2 = 'D:/論文閱讀/碩11008_郭旻學/Program/IntentPrediction/data/EDI/train_user_intent_conv_ml.txt'\n",
    "df_predict['texts'].to_csv(writePath_1, header=None, index=None, sep='\\t', mode='w')\n",
    "df_predict['labels'].to_csv(writePath_2, header=None, index=None, sep='\\t', mode='w')"
   ]
  },
  {
   "cell_type": "code",
   "execution_count": 11,
   "metadata": {},
   "outputs": [],
   "source": [
    "#train_set = ['questioning','sad']\n",
    "# train_dict = {'questioning':1, 'sad':2, 'happy':3}"
   ]
  },
  {
   "cell_type": "code",
   "execution_count": 12,
   "metadata": {},
   "outputs": [],
   "source": [
    "# print(train_dict.keys())"
   ]
  },
  {
   "cell_type": "code",
   "execution_count": 13,
   "metadata": {},
   "outputs": [],
   "source": [
    "# import random\n",
    "# keys = set(train_dict.keys())\n",
    "# for key in keys.difference(train_set):\n",
    "#     print(key)\n",
    "# random.choice(list(keys.difference(train_set)))"
   ]
  },
  {
   "cell_type": "code",
   "execution_count": 14,
   "metadata": {},
   "outputs": [],
   "source": [
    "# import re\n",
    "# import string\n",
    "# text = '3!!! Amazing'\n",
    "# temp = None\n",
    "# respon_list=[]\n",
    "# respon_keys=[]\n",
    "\n",
    "# n = 0\n",
    "# respon_split = re.split(r'([.!?])', text)\n",
    "\n",
    "# for i, respon in enumerate(respon_split):\n",
    "#     respon = respon.strip()\n",
    "#     if respon in string.punctuation:\n",
    "#         try:\n",
    "#             temp = temp + respon\n",
    "#         except:\n",
    "#             continue\n",
    "#         respon_list.append(temp)\n",
    "#         temp = None\n",
    "#     elif respon == '':\n",
    "#         continue\n",
    "#     elif (i+1) == len(respon_split):\n",
    "#         respon_list.append(respon)\n",
    "#     else:\n",
    "#         temp = respon\n",
    "            \n",
    "# respon_list          "
   ]
  },
  {
   "cell_type": "code",
   "execution_count": null,
   "metadata": {},
   "outputs": [],
   "source": []
  }
 ],
 "metadata": {
  "kernelspec": {
   "display_name": "Python 3 (ipykernel)",
   "language": "python",
   "name": "python3"
  },
  "language_info": {
   "codemirror_mode": {
    "name": "ipython",
    "version": 3
   },
   "file_extension": ".py",
   "mimetype": "text/x-python",
   "name": "python",
   "nbconvert_exporter": "python",
   "pygments_lexer": "ipython3",
   "version": "3.7.4"
  }
 },
 "nbformat": 4,
 "nbformat_minor": 4
}
