{
 "cells": [
  {
   "cell_type": "code",
   "execution_count": 1,
   "metadata": {},
   "outputs": [
    {
     "name": "stderr",
     "output_type": "stream",
     "text": [
      "C:\\ProgramData\\Anaconda3\\lib\\site-packages\\ipykernel_launcher.py:4: ParserWarning: Falling back to the 'python' engine because the 'c' engine does not support regex separators (separators > 1 char and different from '\\s+' are interpreted as regex); you can avoid this warning by specifying engine='python'.\n",
      "  after removing the cwd from sys.path.\n"
     ]
    }
   ],
   "source": [
    "#Using oringal EDI dataset to test emotion classifier\n",
    "import pandas as pd\n",
    "df = pd.read_csv('D:/github/EmpatheticIntents-master/EmpatheticIntents-master/datasets/train_data/test.txt',\n",
    "                 sep=\"<SEP>\", header=None, names=['label', 'text'])"
   ]
  },
  {
   "cell_type": "code",
   "execution_count": 2,
   "metadata": {
    "scrolled": true
   },
   "outputs": [
    {
     "data": {
      "text/html": [
       "<div>\n",
       "<style scoped>\n",
       "    .dataframe tbody tr th:only-of-type {\n",
       "        vertical-align: middle;\n",
       "    }\n",
       "\n",
       "    .dataframe tbody tr th {\n",
       "        vertical-align: top;\n",
       "    }\n",
       "\n",
       "    .dataframe thead th {\n",
       "        text-align: right;\n",
       "    }\n",
       "</style>\n",
       "<table border=\"1\" class=\"dataframe\">\n",
       "  <thead>\n",
       "    <tr style=\"text-align: right;\">\n",
       "      <th></th>\n",
       "      <th>label</th>\n",
       "      <th>text</th>\n",
       "    </tr>\n",
       "  </thead>\n",
       "  <tbody>\n",
       "    <tr>\n",
       "      <td>0</td>\n",
       "      <td>17</td>\n",
       "      <td>i feel very thankful for everything that i ha...</td>\n",
       "    </tr>\n",
       "    <tr>\n",
       "      <td>1</td>\n",
       "      <td>12</td>\n",
       "      <td>My dog puked on the carpet a few weeks ago, i...</td>\n",
       "    </tr>\n",
       "    <tr>\n",
       "      <td>2</td>\n",
       "      <td>25</td>\n",
       "      <td>I battled the crowds at the huge store in tow...</td>\n",
       "    </tr>\n",
       "    <tr>\n",
       "      <td>3</td>\n",
       "      <td>22</td>\n",
       "      <td>At a meditation retreat I felt better than ever</td>\n",
       "    </tr>\n",
       "    <tr>\n",
       "      <td>4</td>\n",
       "      <td>25</td>\n",
       "      <td>I'm always doing things to take care of the f...</td>\n",
       "    </tr>\n",
       "  </tbody>\n",
       "</table>\n",
       "</div>"
      ],
      "text/plain": [
       "   label                                               text\n",
       "0     17   i feel very thankful for everything that i ha...\n",
       "1     12   My dog puked on the carpet a few weeks ago, i...\n",
       "2     25   I battled the crowds at the huge store in tow...\n",
       "3     22    At a meditation retreat I felt better than ever\n",
       "4     25   I'm always doing things to take care of the f..."
      ]
     },
     "execution_count": 2,
     "metadata": {},
     "output_type": "execute_result"
    }
   ],
   "source": [
    "df.head()"
   ]
  },
  {
   "cell_type": "code",
   "execution_count": 3,
   "metadata": {},
   "outputs": [],
   "source": [
    "mydict = {\"afraid\": 0, \"angry\": 1, \"annoyed\": 2, \"anticipating\": 3, \"anxious\": 4,\n",
    "                        \"apprehensive\": 5, \"ashamed\": 6, \"caring\": 7, \"confident\": 8, \"content\": 9,\n",
    "                        \"devastated\": 10, \"disappointed\": 11, \"disgusted\": 12, \"embarrassed\": 13, \"excited\": 14,\n",
    "                        \"faithful\": 15, \"furious\": 16, \"grateful\": 17, \"guilty\": 18, \"hopeful\": 19,\n",
    "                        \"impressed\": 20, \"jealous\": 21, \"joyful\": 22, \"lonely\": 23, \"nostalgic\": 24,\n",
    "                        \"prepared\": 25, \"proud\": 26, \"sad\": 27, \"sentimental\": 28, \"surprised\": 29,\n",
    "                        \"terrified\": 30, \"trusting\": 31, \"acknowledging\": 32, \"agreeing\": 33, \"consoling\": 34,\n",
    "                        \"encouraging\": 35,\"sympathizing\": 36, \"suggesting\": 37, \"questioning\": 38, \"wishing\": 39,\n",
    "                        \"neutral\": 40}"
   ]
  },
  {
   "cell_type": "code",
   "execution_count": 4,
   "metadata": {},
   "outputs": [
    {
     "data": {
      "text/plain": [
       "'afraid'"
      ]
     },
     "execution_count": 4,
     "metadata": {},
     "output_type": "execute_result"
    }
   ],
   "source": [
    "list(mydict.keys())[list(mydict.values()).index(0)]"
   ]
  },
  {
   "cell_type": "code",
   "execution_count": 5,
   "metadata": {},
   "outputs": [],
   "source": [
    "label = [] \n",
    "for i in range(len(df)):\n",
    "    number = df.iloc[i][0]\n",
    "    key = list(mydict.keys())[list(mydict.values()).index(number)]\n",
    "    label.append(key)"
   ]
  },
  {
   "cell_type": "code",
   "execution_count": 6,
   "metadata": {},
   "outputs": [
    {
     "name": "stdout",
     "output_type": "stream",
     "text": [
      "3225\n"
     ]
    }
   ],
   "source": [
    "text = []\n",
    "for n in range(len(df)):\n",
    "    utterance_n =str(df['text'].iloc[n]).replace('_comma_',',').strip(' ')\n",
    "    text.append(utterance_n)\n",
    "    \n",
    "print(len(text))      "
   ]
  },
  {
   "cell_type": "code",
   "execution_count": 7,
   "metadata": {},
   "outputs": [
    {
     "data": {
      "text/html": [
       "<div>\n",
       "<style scoped>\n",
       "    .dataframe tbody tr th:only-of-type {\n",
       "        vertical-align: middle;\n",
       "    }\n",
       "\n",
       "    .dataframe tbody tr th {\n",
       "        vertical-align: top;\n",
       "    }\n",
       "\n",
       "    .dataframe thead th {\n",
       "        text-align: right;\n",
       "    }\n",
       "</style>\n",
       "<table border=\"1\" class=\"dataframe\">\n",
       "  <thead>\n",
       "    <tr style=\"text-align: right;\">\n",
       "      <th></th>\n",
       "      <th>emotion</th>\n",
       "      <th>text</th>\n",
       "    </tr>\n",
       "  </thead>\n",
       "  <tbody>\n",
       "    <tr>\n",
       "      <td>0</td>\n",
       "      <td>grateful</td>\n",
       "      <td>i feel very thankful for everything that i hav...</td>\n",
       "    </tr>\n",
       "    <tr>\n",
       "      <td>1</td>\n",
       "      <td>disgusted</td>\n",
       "      <td>My dog puked on the carpet a few weeks ago, it...</td>\n",
       "    </tr>\n",
       "    <tr>\n",
       "      <td>2</td>\n",
       "      <td>prepared</td>\n",
       "      <td>I battled the crowds at the huge store in town...</td>\n",
       "    </tr>\n",
       "    <tr>\n",
       "      <td>3</td>\n",
       "      <td>joyful</td>\n",
       "      <td>At a meditation retreat I felt better than ever</td>\n",
       "    </tr>\n",
       "    <tr>\n",
       "      <td>4</td>\n",
       "      <td>prepared</td>\n",
       "      <td>I'm always doing things to take care of the fu...</td>\n",
       "    </tr>\n",
       "  </tbody>\n",
       "</table>\n",
       "</div>"
      ],
      "text/plain": [
       "     emotion                                               text\n",
       "0   grateful  i feel very thankful for everything that i hav...\n",
       "1  disgusted  My dog puked on the carpet a few weeks ago, it...\n",
       "2   prepared  I battled the crowds at the huge store in town...\n",
       "3     joyful    At a meditation retreat I felt better than ever\n",
       "4   prepared  I'm always doing things to take care of the fu..."
      ]
     },
     "execution_count": 7,
     "metadata": {},
     "output_type": "execute_result"
    }
   ],
   "source": [
    "df = pd.DataFrame(zip(label, text), columns =['emotion', 'text'])\n",
    "df.head()"
   ]
  },
  {
   "cell_type": "code",
   "execution_count": 8,
   "metadata": {},
   "outputs": [
    {
     "data": {
      "text/plain": [
       "'i feel very thankful for everything that i have, i live a really good life in my liking'"
      ]
     },
     "execution_count": 8,
     "metadata": {},
     "output_type": "execute_result"
    }
   ],
   "source": [
    "df.iloc[0][1]"
   ]
  },
  {
   "cell_type": "code",
   "execution_count": 9,
   "metadata": {},
   "outputs": [
    {
     "data": {
      "text/plain": [
       "'My dog puked on the carpet a few weeks ago, it was disgusting.'"
      ]
     },
     "execution_count": 9,
     "metadata": {},
     "output_type": "execute_result"
    }
   ],
   "source": [
    "df.iloc[1][1]"
   ]
  },
  {
   "cell_type": "code",
   "execution_count": 11,
   "metadata": {},
   "outputs": [
    {
     "data": {
      "text/html": [
       "<div>\n",
       "<style scoped>\n",
       "    .dataframe tbody tr th:only-of-type {\n",
       "        vertical-align: middle;\n",
       "    }\n",
       "\n",
       "    .dataframe tbody tr th {\n",
       "        vertical-align: top;\n",
       "    }\n",
       "\n",
       "    .dataframe thead th {\n",
       "        text-align: right;\n",
       "    }\n",
       "</style>\n",
       "<table border=\"1\" class=\"dataframe\">\n",
       "  <thead>\n",
       "    <tr style=\"text-align: right;\">\n",
       "      <th></th>\n",
       "      <th>emotion</th>\n",
       "      <th>text</th>\n",
       "    </tr>\n",
       "  </thead>\n",
       "  <tbody>\n",
       "    <tr>\n",
       "      <td>0</td>\n",
       "      <td>grateful</td>\n",
       "      <td>i feel very thankful for everything that i hav...</td>\n",
       "    </tr>\n",
       "    <tr>\n",
       "      <td>1</td>\n",
       "      <td>disgusted</td>\n",
       "      <td>My dog puked on the carpet a few weeks ago, it...</td>\n",
       "    </tr>\n",
       "    <tr>\n",
       "      <td>2</td>\n",
       "      <td>prepared</td>\n",
       "      <td>I battled the crowds at the huge store in town...</td>\n",
       "    </tr>\n",
       "    <tr>\n",
       "      <td>3</td>\n",
       "      <td>joyful</td>\n",
       "      <td>At a meditation retreat I felt better than ever</td>\n",
       "    </tr>\n",
       "    <tr>\n",
       "      <td>4</td>\n",
       "      <td>prepared</td>\n",
       "      <td>I'm always doing things to take care of the fu...</td>\n",
       "    </tr>\n",
       "  </tbody>\n",
       "</table>\n",
       "</div>"
      ],
      "text/plain": [
       "     emotion                                               text\n",
       "0   grateful  i feel very thankful for everything that i hav...\n",
       "1  disgusted  My dog puked on the carpet a few weeks ago, it...\n",
       "2   prepared  I battled the crowds at the huge store in town...\n",
       "3     joyful    At a meditation retreat I felt better than ever\n",
       "4   prepared  I'm always doing things to take care of the fu..."
      ]
     },
     "execution_count": 11,
     "metadata": {},
     "output_type": "execute_result"
    }
   ],
   "source": [
    "intent = ['questioning','acknowledging','consoling','agreeing',\n",
    "          'encouraging','sympathizing','suggesting','wishing']\n",
    "\n",
    "df_emo = df[df['emotion'].str.contains('|'.join(intent))==False]\n",
    "df_emo = df_emo.reset_index(drop=True)\n",
    "df_emo.head()"
   ]
  },
  {
   "cell_type": "code",
   "execution_count": 12,
   "metadata": {},
   "outputs": [
    {
     "data": {
      "text/plain": [
       "2601"
      ]
     },
     "execution_count": 12,
     "metadata": {},
     "output_type": "execute_result"
    }
   ],
   "source": [
    "len(df_emo)"
   ]
  },
  {
   "cell_type": "code",
   "execution_count": 13,
   "metadata": {
    "scrolled": true
   },
   "outputs": [],
   "source": [
    "df_emo.to_csv('D:/論文閱讀/碩11008_郭旻學/Program/EmotionClassifier_head/data/EDI/test_sentence_emotion.csv',\n",
    "                      header=False,index=False)"
   ]
  },
  {
   "cell_type": "code",
   "execution_count": 14,
   "metadata": {},
   "outputs": [
    {
     "data": {
      "text/html": [
       "<div>\n",
       "<style scoped>\n",
       "    .dataframe tbody tr th:only-of-type {\n",
       "        vertical-align: middle;\n",
       "    }\n",
       "\n",
       "    .dataframe tbody tr th {\n",
       "        vertical-align: top;\n",
       "    }\n",
       "\n",
       "    .dataframe thead th {\n",
       "        text-align: right;\n",
       "    }\n",
       "</style>\n",
       "<table border=\"1\" class=\"dataframe\">\n",
       "  <thead>\n",
       "    <tr style=\"text-align: right;\">\n",
       "      <th></th>\n",
       "      <th>emotion</th>\n",
       "      <th>text</th>\n",
       "    </tr>\n",
       "  </thead>\n",
       "  <tbody>\n",
       "    <tr>\n",
       "      <td>0</td>\n",
       "      <td>consoling</td>\n",
       "      <td>hopefully some orphan uses it wisely.</td>\n",
       "    </tr>\n",
       "    <tr>\n",
       "      <td>1</td>\n",
       "      <td>acknowledging</td>\n",
       "      <td>i understand.</td>\n",
       "    </tr>\n",
       "    <tr>\n",
       "      <td>2</td>\n",
       "      <td>questioning</td>\n",
       "      <td>aww were you excited when you picked her up?</td>\n",
       "    </tr>\n",
       "    <tr>\n",
       "      <td>3</td>\n",
       "      <td>agreeing</td>\n",
       "      <td>thats great, perfect time to unwind and relax,...</td>\n",
       "    </tr>\n",
       "    <tr>\n",
       "      <td>4</td>\n",
       "      <td>suggesting</td>\n",
       "      <td>maybe she'll regret how she treated you.</td>\n",
       "    </tr>\n",
       "  </tbody>\n",
       "</table>\n",
       "</div>"
      ],
      "text/plain": [
       "         emotion                                               text\n",
       "0      consoling              hopefully some orphan uses it wisely.\n",
       "1  acknowledging                                      i understand.\n",
       "2    questioning       aww were you excited when you picked her up?\n",
       "3       agreeing  thats great, perfect time to unwind and relax,...\n",
       "4     suggesting           maybe she'll regret how she treated you."
      ]
     },
     "execution_count": 14,
     "metadata": {},
     "output_type": "execute_result"
    }
   ],
   "source": [
    "df_int = df[df['emotion'].str.contains('|'.join(intent))==True]\n",
    "df_int = df_int.reset_index(drop=True)\n",
    "df_int.head()"
   ]
  },
  {
   "cell_type": "code",
   "execution_count": 15,
   "metadata": {},
   "outputs": [
    {
     "data": {
      "text/plain": [
       "'hopefully some orphan uses it wisely.'"
      ]
     },
     "execution_count": 15,
     "metadata": {},
     "output_type": "execute_result"
    }
   ],
   "source": [
    "df_int.iloc[0][1]"
   ]
  },
  {
   "cell_type": "code",
   "execution_count": 16,
   "metadata": {},
   "outputs": [
    {
     "data": {
      "text/plain": [
       "624"
      ]
     },
     "execution_count": 16,
     "metadata": {},
     "output_type": "execute_result"
    }
   ],
   "source": [
    "len(df_int)"
   ]
  },
  {
   "cell_type": "code",
   "execution_count": 17,
   "metadata": {},
   "outputs": [],
   "source": [
    "df_int.to_csv('D:/論文閱讀/碩11008_郭旻學/Program/IntentClassifier_head/data/EDI/test_sentence_intent.csv',\n",
    "                      header=False,index=False)"
   ]
  },
  {
   "cell_type": "code",
   "execution_count": null,
   "metadata": {},
   "outputs": [],
   "source": []
  }
 ],
 "metadata": {
  "kernelspec": {
   "display_name": "Python 3 (ipykernel)",
   "language": "python",
   "name": "python3"
  },
  "language_info": {
   "codemirror_mode": {
    "name": "ipython",
    "version": 3
   },
   "file_extension": ".py",
   "mimetype": "text/x-python",
   "name": "python",
   "nbconvert_exporter": "python",
   "pygments_lexer": "ipython3",
   "version": "3.7.4"
  }
 },
 "nbformat": 4,
 "nbformat_minor": 4
}
